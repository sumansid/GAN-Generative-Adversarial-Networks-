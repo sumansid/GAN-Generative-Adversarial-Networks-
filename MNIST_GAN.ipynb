{
  "nbformat": 4,
  "nbformat_minor": 0,
  "metadata": {
    "colab": {
      "name": "MNIST GAN.ipynb",
      "provenance": []
    },
    "kernelspec": {
      "name": "python3",
      "display_name": "Python 3"
    }
  },
  "cells": [
    {
      "cell_type": "code",
      "metadata": {
        "id": "xfKf-iRPDbNP",
        "colab_type": "code",
        "colab": {
          "base_uri": "https://localhost:8080/",
          "height": 54
        },
        "outputId": "75c71895-0bd1-4ebd-ae5e-9b5ce8e21c99"
      },
      "source": [
        "import tensorflow as tf\n",
        "from tensorflow import keras\n",
        "import matplotlib.pyplot as plt\n",
        "from PIL import Image \n",
        "import numpy as np\n",
        "from keras.utils.vis_utils import plot_model\n",
        "from keras.models import Sequential\n",
        "from keras.layers import *\n",
        "from keras.optimizers import *\n",
        "from numpy.random import randn\n",
        "from numpy.random import randint\n",
        "from numpy import zeros\n",
        "from numpy.random import random\n",
        "from numpy import vstack\n",
        "import numpy as np\n",
        "from numpy.random import rand \n",
        "from keras.datasets.mnist import load_data\n",
        "from google.colab import drive\n",
        "drive.mount('/content/drive')"
      ],
      "execution_count": 35,
      "outputs": [
        {
          "output_type": "stream",
          "text": [
            "Drive already mounted at /content/drive; to attempt to forcibly remount, call drive.mount(\"/content/drive\", force_remount=True).\n"
          ],
          "name": "stdout"
        }
      ]
    },
    {
      "cell_type": "code",
      "metadata": {
        "id": "7KXYN5TJJoHu",
        "colab_type": "code",
        "colab": {}
      },
      "source": [
        "def prepare_real_samples():\n",
        "  (trainX, trainy), (testX, testy) = load_data()\n",
        "  X = np.expand_dims(trainX,axis=-1)\n",
        "  X = X.astype(\"float32\")\n",
        "  X = X / 255.0\n",
        "  return X"
      ],
      "execution_count": 0,
      "outputs": []
    },
    {
      "cell_type": "code",
      "metadata": {
        "id": "KIV_HeSIJrys",
        "colab_type": "code",
        "colab": {}
      },
      "source": [
        "#plt.imshow(trainX[2], cmap=\"gray_r\")"
      ],
      "execution_count": 0,
      "outputs": []
    },
    {
      "cell_type": "code",
      "metadata": {
        "id": "YinsVrx3JwJ2",
        "colab_type": "code",
        "colab": {}
      },
      "source": [
        "def discriminator_model(input_shape = (28,28,1)):\n",
        "  model = Sequential()\n",
        "  model.add(Conv2D(64, (3,3) ,strides=(2,2), padding='same',input_shape=input_shape))\n",
        "  model.add(LeakyReLU(alpha=0.3))\n",
        "  model.add(Dropout(0.4))\n",
        "  model.add(Conv2D(64, (3,3) ,strides=(2,2), padding='same'))\n",
        "  model.add(LeakyReLU(alpha=0.3))\n",
        "  model.add(Dropout(0.4))\n",
        "  model.add(Flatten())\n",
        "  model.add(Dense(1, activation=\"sigmoid\"))\n",
        "  optimizer = Adam(lr=0.0002, beta_1=0.5)\n",
        "  model.compile(loss='binary_crossentropy', optimizer=optimizer, metrics=[\"accuracy\"])\n",
        "  return model"
      ],
      "execution_count": 0,
      "outputs": []
    },
    {
      "cell_type": "code",
      "metadata": {
        "id": "VXORdT9XK5Qj",
        "colab_type": "code",
        "colab": {
          "base_uri": "https://localhost:8080/",
          "height": 425
        },
        "outputId": "427b77ef-6092-42e6-a319-443200b352db"
      },
      "source": [
        "model = discriminator_model()\n",
        "model.summary()"
      ],
      "execution_count": 7,
      "outputs": [
        {
          "output_type": "stream",
          "text": [
            "Model: \"sequential_1\"\n",
            "_________________________________________________________________\n",
            "Layer (type)                 Output Shape              Param #   \n",
            "=================================================================\n",
            "conv2d_1 (Conv2D)            (None, 14, 14, 64)        640       \n",
            "_________________________________________________________________\n",
            "leaky_re_lu_1 (LeakyReLU)    (None, 14, 14, 64)        0         \n",
            "_________________________________________________________________\n",
            "dropout_1 (Dropout)          (None, 14, 14, 64)        0         \n",
            "_________________________________________________________________\n",
            "conv2d_2 (Conv2D)            (None, 7, 7, 64)          36928     \n",
            "_________________________________________________________________\n",
            "leaky_re_lu_2 (LeakyReLU)    (None, 7, 7, 64)          0         \n",
            "_________________________________________________________________\n",
            "dropout_2 (Dropout)          (None, 7, 7, 64)          0         \n",
            "_________________________________________________________________\n",
            "flatten_1 (Flatten)          (None, 3136)              0         \n",
            "_________________________________________________________________\n",
            "dense_1 (Dense)              (None, 1)                 3137      \n",
            "=================================================================\n",
            "Total params: 40,705\n",
            "Trainable params: 40,705\n",
            "Non-trainable params: 0\n",
            "_________________________________________________________________\n"
          ],
          "name": "stdout"
        }
      ]
    },
    {
      "cell_type": "code",
      "metadata": {
        "id": "HnOqlKt8Lm07",
        "colab_type": "code",
        "colab": {}
      },
      "source": [
        "def generate_real_samples(dataset, n_samples):\n",
        "  idx = randint(0,dataset.shape[0],n_samples)\n",
        "  X = dataset[idx]\n",
        "  y = np.ones((n_samples,1))\n",
        "  return X,y"
      ],
      "execution_count": 0,
      "outputs": []
    },
    {
      "cell_type": "code",
      "metadata": {
        "id": "WahBB40lwTPe",
        "colab_type": "code",
        "colab": {}
      },
      "source": [
        "def generate_fake_samples(n_samples):\n",
        "  X = rand(28*28*n_samples)\n",
        "  X = X.reshape((n_samples,28,28,1))\n",
        "  y = np.zeros((n_samples,1))\n",
        "  return X,y"
      ],
      "execution_count": 0,
      "outputs": []
    },
    {
      "cell_type": "code",
      "metadata": {
        "id": "XxkRaUT8wmUS",
        "colab_type": "code",
        "colab": {}
      },
      "source": [
        "def train_discriminator(model,dataset,n_iter = 100,n_batches = 256):\n",
        "  half_batch = int(n_batches/2)\n",
        "  for i in range(n_iter):\n",
        "    X_real, y_real = generate_real_samples(dataset,half_batch)\n",
        "    _,real_acc = model.train_on_batch(X_real,y_real)\n",
        "    X_fake, y_fake = generate_fake_samples(half_batch)\n",
        "    _, fake_acc = model.train_on_batch(X_fake, y_fake)\n",
        "    print(\"At iteration \" + str(i)+ \" Real accuracy \" + str(real_acc) + \" fake accuracy \"+ str(fake_acc))\n"
      ],
      "execution_count": 0,
      "outputs": []
    },
    {
      "cell_type": "code",
      "metadata": {
        "id": "iyPebfZJwp1r",
        "colab_type": "code",
        "colab": {
          "base_uri": "https://localhost:8080/",
          "height": 1000
        },
        "outputId": "8bb96d1f-3a79-4ad5-db95-5f9fdf4e337c"
      },
      "source": [
        "model = discriminator_model()\n",
        "dataset = prepare_real_samples()\n",
        "train_discriminator(model,dataset)\n"
      ],
      "execution_count": 11,
      "outputs": [
        {
          "output_type": "stream",
          "text": [
            "Downloading data from https://s3.amazonaws.com/img-datasets/mnist.npz\n",
            "11493376/11490434 [==============================] - 0s 0us/step\n",
            "At iteration 0 Real accuracy 0.8125 fake accuracy 0.109375\n",
            "At iteration 1 Real accuracy 0.8671875 fake accuracy 0.3359375\n",
            "At iteration 2 Real accuracy 0.8046875 fake accuracy 0.5\n",
            "At iteration 3 Real accuracy 0.8046875 fake accuracy 0.8359375\n",
            "At iteration 4 Real accuracy 0.796875 fake accuracy 0.859375\n",
            "At iteration 5 Real accuracy 0.7578125 fake accuracy 0.9765625\n",
            "At iteration 6 Real accuracy 0.7421875 fake accuracy 0.9921875\n",
            "At iteration 7 Real accuracy 0.8046875 fake accuracy 1.0\n",
            "At iteration 8 Real accuracy 0.75 fake accuracy 1.0\n",
            "At iteration 9 Real accuracy 0.703125 fake accuracy 1.0\n",
            "At iteration 10 Real accuracy 0.6953125 fake accuracy 1.0\n",
            "At iteration 11 Real accuracy 0.6640625 fake accuracy 1.0\n",
            "At iteration 12 Real accuracy 0.7265625 fake accuracy 1.0\n",
            "At iteration 13 Real accuracy 0.7421875 fake accuracy 1.0\n",
            "At iteration 14 Real accuracy 0.8125 fake accuracy 1.0\n",
            "At iteration 15 Real accuracy 0.8203125 fake accuracy 1.0\n",
            "At iteration 16 Real accuracy 0.75 fake accuracy 1.0\n",
            "At iteration 17 Real accuracy 0.734375 fake accuracy 1.0\n",
            "At iteration 18 Real accuracy 0.84375 fake accuracy 1.0\n",
            "At iteration 19 Real accuracy 0.84375 fake accuracy 1.0\n",
            "At iteration 20 Real accuracy 0.8203125 fake accuracy 1.0\n",
            "At iteration 21 Real accuracy 0.8515625 fake accuracy 1.0\n",
            "At iteration 22 Real accuracy 0.9296875 fake accuracy 1.0\n",
            "At iteration 23 Real accuracy 0.8828125 fake accuracy 1.0\n",
            "At iteration 24 Real accuracy 0.953125 fake accuracy 1.0\n",
            "At iteration 25 Real accuracy 0.9296875 fake accuracy 1.0\n",
            "At iteration 26 Real accuracy 0.96875 fake accuracy 1.0\n",
            "At iteration 27 Real accuracy 0.9375 fake accuracy 1.0\n",
            "At iteration 28 Real accuracy 0.953125 fake accuracy 1.0\n",
            "At iteration 29 Real accuracy 0.9609375 fake accuracy 1.0\n",
            "At iteration 30 Real accuracy 0.984375 fake accuracy 1.0\n",
            "At iteration 31 Real accuracy 0.96875 fake accuracy 1.0\n",
            "At iteration 32 Real accuracy 0.9921875 fake accuracy 1.0\n",
            "At iteration 33 Real accuracy 0.984375 fake accuracy 1.0\n",
            "At iteration 34 Real accuracy 1.0 fake accuracy 1.0\n",
            "At iteration 35 Real accuracy 0.9921875 fake accuracy 1.0\n",
            "At iteration 36 Real accuracy 1.0 fake accuracy 1.0\n",
            "At iteration 37 Real accuracy 1.0 fake accuracy 1.0\n",
            "At iteration 38 Real accuracy 1.0 fake accuracy 1.0\n",
            "At iteration 39 Real accuracy 1.0 fake accuracy 1.0\n",
            "At iteration 40 Real accuracy 1.0 fake accuracy 1.0\n",
            "At iteration 41 Real accuracy 1.0 fake accuracy 1.0\n",
            "At iteration 42 Real accuracy 1.0 fake accuracy 1.0\n",
            "At iteration 43 Real accuracy 1.0 fake accuracy 1.0\n",
            "At iteration 44 Real accuracy 1.0 fake accuracy 1.0\n",
            "At iteration 45 Real accuracy 1.0 fake accuracy 1.0\n",
            "At iteration 46 Real accuracy 1.0 fake accuracy 1.0\n",
            "At iteration 47 Real accuracy 1.0 fake accuracy 1.0\n",
            "At iteration 48 Real accuracy 1.0 fake accuracy 1.0\n",
            "At iteration 49 Real accuracy 1.0 fake accuracy 1.0\n",
            "At iteration 50 Real accuracy 1.0 fake accuracy 1.0\n",
            "At iteration 51 Real accuracy 1.0 fake accuracy 1.0\n",
            "At iteration 52 Real accuracy 1.0 fake accuracy 1.0\n",
            "At iteration 53 Real accuracy 1.0 fake accuracy 1.0\n",
            "At iteration 54 Real accuracy 1.0 fake accuracy 1.0\n",
            "At iteration 55 Real accuracy 1.0 fake accuracy 1.0\n",
            "At iteration 56 Real accuracy 1.0 fake accuracy 1.0\n",
            "At iteration 57 Real accuracy 1.0 fake accuracy 1.0\n",
            "At iteration 58 Real accuracy 1.0 fake accuracy 1.0\n",
            "At iteration 59 Real accuracy 1.0 fake accuracy 1.0\n",
            "At iteration 60 Real accuracy 1.0 fake accuracy 1.0\n",
            "At iteration 61 Real accuracy 1.0 fake accuracy 1.0\n",
            "At iteration 62 Real accuracy 1.0 fake accuracy 1.0\n",
            "At iteration 63 Real accuracy 1.0 fake accuracy 1.0\n",
            "At iteration 64 Real accuracy 1.0 fake accuracy 1.0\n",
            "At iteration 65 Real accuracy 1.0 fake accuracy 1.0\n",
            "At iteration 66 Real accuracy 1.0 fake accuracy 1.0\n",
            "At iteration 67 Real accuracy 1.0 fake accuracy 1.0\n",
            "At iteration 68 Real accuracy 1.0 fake accuracy 1.0\n",
            "At iteration 69 Real accuracy 1.0 fake accuracy 1.0\n",
            "At iteration 70 Real accuracy 1.0 fake accuracy 1.0\n",
            "At iteration 71 Real accuracy 1.0 fake accuracy 1.0\n",
            "At iteration 72 Real accuracy 1.0 fake accuracy 1.0\n",
            "At iteration 73 Real accuracy 1.0 fake accuracy 1.0\n",
            "At iteration 74 Real accuracy 1.0 fake accuracy 1.0\n",
            "At iteration 75 Real accuracy 1.0 fake accuracy 1.0\n",
            "At iteration 76 Real accuracy 1.0 fake accuracy 1.0\n",
            "At iteration 77 Real accuracy 1.0 fake accuracy 1.0\n",
            "At iteration 78 Real accuracy 1.0 fake accuracy 1.0\n",
            "At iteration 79 Real accuracy 1.0 fake accuracy 1.0\n",
            "At iteration 80 Real accuracy 1.0 fake accuracy 1.0\n",
            "At iteration 81 Real accuracy 1.0 fake accuracy 1.0\n",
            "At iteration 82 Real accuracy 1.0 fake accuracy 1.0\n",
            "At iteration 83 Real accuracy 1.0 fake accuracy 1.0\n",
            "At iteration 84 Real accuracy 1.0 fake accuracy 1.0\n",
            "At iteration 85 Real accuracy 1.0 fake accuracy 1.0\n",
            "At iteration 86 Real accuracy 1.0 fake accuracy 1.0\n",
            "At iteration 87 Real accuracy 1.0 fake accuracy 1.0\n",
            "At iteration 88 Real accuracy 1.0 fake accuracy 1.0\n",
            "At iteration 89 Real accuracy 1.0 fake accuracy 1.0\n",
            "At iteration 90 Real accuracy 1.0 fake accuracy 1.0\n",
            "At iteration 91 Real accuracy 1.0 fake accuracy 1.0\n",
            "At iteration 92 Real accuracy 1.0 fake accuracy 1.0\n",
            "At iteration 93 Real accuracy 1.0 fake accuracy 1.0\n",
            "At iteration 94 Real accuracy 1.0 fake accuracy 1.0\n",
            "At iteration 95 Real accuracy 1.0 fake accuracy 1.0\n",
            "At iteration 96 Real accuracy 1.0 fake accuracy 1.0\n",
            "At iteration 97 Real accuracy 1.0 fake accuracy 1.0\n",
            "At iteration 98 Real accuracy 1.0 fake accuracy 1.0\n",
            "At iteration 99 Real accuracy 1.0 fake accuracy 1.0\n"
          ],
          "name": "stdout"
        }
      ]
    },
    {
      "cell_type": "code",
      "metadata": {
        "id": "Fquzdj66yVJP",
        "colab_type": "code",
        "colab": {}
      },
      "source": [
        ""
      ],
      "execution_count": 0,
      "outputs": []
    },
    {
      "cell_type": "markdown",
      "metadata": {
        "id": "6Eqd-ds_ynGU",
        "colab_type": "text"
      },
      "source": [
        "Generator model"
      ]
    },
    {
      "cell_type": "code",
      "metadata": {
        "id": "QFxY-Mi-ypLV",
        "colab_type": "code",
        "colab": {}
      },
      "source": [
        "def generator_model(latent_dim = 100):\n",
        "  model = Sequential()\n",
        "  model.add(Dense(128*7*7,input_dim=latent_dim))\n",
        "  model.add(LeakyReLU(alpha = 0.2))\n",
        "  model.add(Reshape((7,7,128)))\n",
        "  model.add(Conv2DTranspose(128,(4,4),strides=(2,2),padding=\"same\"))\n",
        "  model.add(LeakyReLU(alpha=0.2))\n",
        "  model.add(Conv2DTranspose(128,(4,4),strides=(2,2),padding=\"same\"))\n",
        "  model.add(LeakyReLU(alpha=0.2))\n",
        "  model.add(Conv2D(1, (7,7), activation=\"sigmoid\", padding=\"same\"))\n",
        "  return model"
      ],
      "execution_count": 0,
      "outputs": []
    },
    {
      "cell_type": "code",
      "metadata": {
        "id": "X8iP_pC02E4d",
        "colab_type": "code",
        "colab": {}
      },
      "source": [
        "def generate_latent_points(latent_dim,n_samples):\n",
        "  x_input = randn(latent_dim * n_samples)\n",
        "  x_input = x_input.reshape(n_samples,latent_dim)\n",
        "  return x_input"
      ],
      "execution_count": 0,
      "outputs": []
    },
    {
      "cell_type": "code",
      "metadata": {
        "id": "qVDPSa6G2cZ8",
        "colab_type": "code",
        "colab": {}
      },
      "source": [
        "def generate_fake_samples(g_model,latent_dim,n_samples):\n",
        "  x_input = generate_latent_points(latent_dim,n_samples)\n",
        "  X = g_model.predict(x_input)\n",
        "  y = zeros((n_samples,1))\n",
        "  return X, y"
      ],
      "execution_count": 0,
      "outputs": []
    },
    {
      "cell_type": "code",
      "metadata": {
        "id": "ABZTvyjA2zMo",
        "colab_type": "code",
        "colab": {
          "base_uri": "https://localhost:8080/",
          "height": 89
        },
        "outputId": "71da516b-a0a5-47c1-e3c1-97453830e6bd"
      },
      "source": [
        "latent_dim = 100\n",
        "model = generator_model(latent_dim)\n",
        "n_samples = 5\n",
        "X,_ = generate_fake_samples(model,latent_dim,n_samples)\n",
        "for i in range(n_samples):\n",
        "  plt.subplot(5,5,1+i)\n",
        "  plt.imshow(X[i,:,:,0], cmap=\"gray_r\")\n",
        "plt.show()"
      ],
      "execution_count": 15,
      "outputs": [
        {
          "output_type": "display_data",
          "data": {
            "image/png": "[encoded data removed]",
            "text/plain": [
              "<Figure size 432x288 with 5 Axes>"
            ]
          },
          "metadata": {
            "tags": [],
            "needs_background": "light"
          }
        }
      ]
    },
    {
      "cell_type": "code",
      "metadata": {
        "id": "HB7olnUh3TsB",
        "colab_type": "code",
        "colab": {}
      },
      "source": [
        "def define_gan(generator, discriminator):\n",
        "  generator.trainable = False\n",
        "  model = Sequential()\n",
        "  model.add(generator)\n",
        "  model.add(discriminator)\n",
        "  opt = Adam(lr=0.0002, beta_1=0.5)\n",
        "  model.compile(loss=\"binary_crossentropy\",optimizer=opt)\n",
        "  return model"
      ],
      "execution_count": 0,
      "outputs": []
    },
    {
      "cell_type": "code",
      "metadata": {
        "id": "2BwknfbUDqcv",
        "colab_type": "code",
        "colab": {}
      },
      "source": [
        "def train_gan(generator, discriminator, gan_model, latent_dim , n_epochs, n_batch, dataset):\n",
        "  batches_per_epoch = int(dataset.shape[0]/n_batch)\n",
        "  half_batch = int(n_batch/2)\n",
        "  for i in range(n_epochs):\n",
        "    for j in range(batches_per_epoch):\n",
        "      x_real,y_real = generate_real_samples(dataset,half_batch)\n",
        "      x_fake, y_fake = generate_fake_samples(generator, latent_dim, half_batch)\n",
        "      X, y = vstack((x_real, x_fake)), vstack((y_real, y_fake))\n",
        "      d_loss,_ = discriminator.train_on_batch(X,y)\n",
        "      x_gan = generate_latent_points(latent_dim, n_batch)\n",
        "      y_gan = np.ones((n_batch,1))\n",
        "      g_loss = gan_model.train_on_batch(x_gan, y_gan)\n",
        "      print(i,j,batches_per_epoch,d_loss,g_loss)\n",
        "    if (i+1) % 1000 == 0 :\n",
        "      summarize_performance(i, generator, discriminator, dataset, latent_dim)\n",
        "\n"
      ],
      "execution_count": 0,
      "outputs": []
    },
    {
      "cell_type": "code",
      "metadata": {
        "id": "f3ZEmhUBGJVj",
        "colab_type": "code",
        "colab": {}
      },
      "source": [
        "def summarize_performance(epoch,generator,discriminator,dataset,latent_dim,n_samples=100):\n",
        "  x_real,y_real = generate_real_samples(dataset,n_samples)\n",
        "  _, acc_real = discriminator.evaluate(x_real, y_real, verbose=0)\n",
        "  x_fake, y_fake = generate_fake_samples(generator, latent_dim, n_samples)\n",
        "  _, acc_fake = discriminator.evaluate(x_fake, y_fake, verbose=0)\n",
        "  print(\"Real accuracy is \" + str(acc_real)+ \" and fake accuracy is \"+ str(acc_fake))\n",
        "  save_plot(x_fake, epoch)\n",
        "  filename = \"generator_model_%03d.h5\" % (epoch + 1) \n",
        "  g_model.save(filename)\n",
        "\n"
      ],
      "execution_count": 0,
      "outputs": []
    },
    {
      "cell_type": "code",
      "metadata": {
        "id": "yT5i6XTSHZAG",
        "colab_type": "code",
        "colab": {}
      },
      "source": [
        "def save_plot(examples, epoch, n= 10):\n",
        "  for i in range(n*n):\n",
        "    plt.subplot(n,n,1+i)\n",
        "    plt.axis('off')\n",
        "    plt.imshow(examples[i,:,:,0], cmap=\"gray_r\")\n",
        "  filename = \"generated_plot_e%03d.png\" % (epoch+1)\n",
        "  plt.savefig(filename)\n",
        "  plt.close()"
      ],
      "execution_count": 0,
      "outputs": []
    },
    {
      "cell_type": "code",
      "metadata": {
        "id": "OLzmkdSTJM0n",
        "colab_type": "code",
        "colab": {
          "base_uri": "https://localhost:8080/",
          "height": 1000
        },
        "outputId": "2af97616-28fc-49f8-cd38-5572d8c723ae"
      },
      "source": [
        "latent_dim = 100\n",
        "discriminator = discriminator_model()\n",
        "generator = generator_model(latent_dim)\n",
        "gan_model = define_gan(generator, discriminator)\n",
        "dataset = prepare_real_samples()\n",
        "train_gan(generator, discriminator, gan_model, latent_dim, 100,256,dataset)"
      ],
      "execution_count": 0,
      "outputs": [
        {
          "output_type": "stream",
          "text": [
            "0 0 234 0.6760099 0.7506194\n",
            "0 1 234 0.6655116 0.7502436\n",
            "0 2 234 0.6725731 0.7455438\n",
            "0 3 234 0.66900694 0.73708206\n",
            "0 4 234 0.6638751 0.7409481\n",
            "0 5 234 0.66696763 0.7430123\n",
            "0 6 234 0.66421455 0.73227894\n",
            "0 7 234 0.6601521 0.7231033\n",
            "0 8 234 0.6617844 0.7229701\n",
            "0 9 234 0.6559933 0.7136355\n",
            "0 10 234 0.65926373 0.7118132\n",
            "0 11 234 0.6594441 0.71860397\n",
            "0 12 234 0.652828 0.70495236\n",
            "0 13 234 0.65367806 0.7062582\n",
            "0 14 234 0.6484059 0.6991115\n",
            "0 15 234 0.6465175 0.70877934\n",
            "0 16 234 0.645687 0.7040861\n",
            "0 17 234 0.6460919 0.70589507\n",
            "0 18 234 0.64239717 0.7012815\n",
            "0 19 234 0.6454124 0.697827\n",
            "0 20 234 0.6374066 0.7003682\n",
            "0 21 234 0.6360375 0.704842\n",
            "0 22 234 0.6345615 0.70015097\n",
            "0 23 234 0.6308059 0.70302486\n",
            "0 24 234 0.63011837 0.698634\n",
            "0 25 234 0.63041997 0.6983695\n",
            "0 26 234 0.6236254 0.6947801\n",
            "0 27 234 0.62489414 0.700042\n",
            "0 28 234 0.61693 0.69145346\n",
            "0 29 234 0.625706 0.6947233\n",
            "0 30 234 0.61904037 0.69123626\n",
            "0 31 234 0.6188481 0.6959817\n",
            "0 32 234 0.61661625 0.70034534\n",
            "0 33 234 0.6089826 0.70612276\n",
            "0 34 234 0.6142248 0.7003757\n",
            "0 35 234 0.6090994 0.69731534\n",
            "0 36 234 0.6063555 0.7022723\n",
            "0 37 234 0.6023414 0.7113319\n",
            "0 38 234 0.602481 0.7039609\n",
            "0 39 234 0.59801275 0.71112674\n",
            "0 40 234 0.5978126 0.70339763\n",
            "0 41 234 0.5922095 0.7077316\n",
            "0 42 234 0.5908606 0.70407534\n",
            "0 43 234 0.59095395 0.71055233\n",
            "0 44 234 0.58774185 0.70930696\n",
            "0 45 234 0.58210546 0.7053149\n",
            "0 46 234 0.5734306 0.7171037\n",
            "0 47 234 0.58119327 0.71183604\n",
            "0 48 234 0.57720286 0.7161827\n",
            "0 49 234 0.5762325 0.71957266\n",
            "0 50 234 0.5744301 0.7191188\n",
            "0 51 234 0.5643909 0.7249156\n",
            "0 52 234 0.56483686 0.72688997\n",
            "0 53 234 0.56027085 0.72286594\n",
            "0 54 234 0.5625843 0.714038\n",
            "0 55 234 0.54917854 0.7228801\n",
            "0 56 234 0.55660355 0.7258371\n",
            "0 57 234 0.54712427 0.72227967\n",
            "0 58 234 0.5538709 0.728384\n",
            "0 59 234 0.5478361 0.7355927\n",
            "0 60 234 0.54389286 0.73005223\n",
            "0 61 234 0.54625404 0.7205425\n",
            "0 62 234 0.54989314 0.73780304\n",
            "0 63 234 0.5330391 0.7364316\n",
            "0 64 234 0.5392386 0.73281056\n",
            "0 65 234 0.5267429 0.73258305\n",
            "0 66 234 0.53248864 0.7413266\n",
            "0 67 234 0.5355405 0.7405815\n",
            "0 68 234 0.5308496 0.74433386\n",
            "0 69 234 0.51435137 0.7383366\n",
            "0 70 234 0.5099284 0.7537918\n",
            "0 71 234 0.5079982 0.74954104\n",
            "0 72 234 0.51658994 0.75233006\n",
            "0 73 234 0.5003559 0.75188625\n",
            "0 74 234 0.50226605 0.7494813\n",
            "0 75 234 0.5058526 0.7541479\n",
            "0 76 234 0.5007044 0.75743294\n",
            "0 77 234 0.49979568 0.762647\n",
            "0 78 234 0.4916879 0.76426363\n",
            "0 79 234 0.48798758 0.7584828\n",
            "0 80 234 0.4916658 0.7588036\n",
            "0 81 234 0.48720765 0.76758164\n",
            "0 82 234 0.48702192 0.768098\n",
            "0 83 234 0.47755682 0.76254916\n",
            "0 84 234 0.48085076 0.76623046\n"
          ],
          "name": "stdout"
        }
      ]
    },
    {
      "cell_type": "code",
      "metadata": {
        "id": "HKjl2gP8Ju8h",
        "colab_type": "code",
        "colab": {}
      },
      "source": [
        ""
      ],
      "execution_count": 0,
      "outputs": []
    }
  ]
}